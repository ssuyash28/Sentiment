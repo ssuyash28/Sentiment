{
 "cells": [
  {
   "cell_type": "code",
   "execution_count": 35,
   "metadata": {
    "collapsed": true
   },
   "outputs": [],
   "source": [
    "#Libraries\n",
    "from bs4 import BeautifulSoup\n",
    "import matplotlib.pyplot as plt\n",
    "import pandas as pd\n",
    "import nltk\n",
    "from nltk.stem import WordNetLemmatizer\n"
   ]
  },
  {
   "cell_type": "code",
   "execution_count": 36,
   "metadata": {},
   "outputs": [],
   "source": [
    "positive=BeautifulSoup(open('/home/suyash/Desktop/prai/sorted_data_acl/books/positivereview2').read())\n",
    "negative=BeautifulSoup(open('/home/suyash/Desktop/prai/sorted_data_acl/books/negative.review').read())\n",
    "positive=positive.findAll('review_text')\n",
    "negative=negative.findAll('review_text')\n",
    "\n",
    "stopwords=open('/home/suyash/stopwords.txt').read()\n",
    "stopwords=stopwords.split('\\n')"
   ]
  },
  {
   "cell_type": "code",
   "execution_count": 37,
   "metadata": {
    "collapsed": true
   },
   "outputs": [],
   "source": [
    "wnl=WordNetLemmatizer()\n",
    "\n",
    "def new_tok(text):\n",
    "    text=text.lower()\n",
    "    tok=nltk.tokenize.word_tokenize(text)\n",
    "    tok=[t for t in tok if len(t)>2]\n",
    "    tok=[wnl.lemmatize(t) for t in tok]\n",
    "    tok=[t for t in tok if t not in stopwords]\n",
    "    return tok"
   ]
  },
  {
   "cell_type": "code",
   "execution_count": 38,
   "metadata": {
    "collapsed": true
   },
   "outputs": [],
   "source": [
    "wordnet={}\n",
    "now=0\n",
    "positive_tok=[]\n",
    "negative_tok=[]\n",
    "for text in positive:\n",
    "    tokens=new_tok(text.text)\n",
    "    positive_tok.append(tokens)\n",
    "    for tok in tokens:\n",
    "        if tok not in wordnet:\n",
    "            wordnet[tok]=now\n",
    "            now+=1\n",
    "            \n",
    "for text in negative:\n",
    "    tokens=new_tok(text.text)\n",
    "    negative_tok.append(tokens)\n",
    "    for tok in tokens:\n",
    "        if tok not in wordnet:\n",
    "            wordnet[tok]=now\n",
    "            now+=1\n",
    "\n",
    "tot=len(positive)+len(negative)\n",
    "\n",
    "import numpy as np\n",
    "\n",
    "wdm=np.zeros((tot+1,now+1))\n",
    "i=0\n",
    "\n",
    "def wdm_creation(text,label):\n",
    "    for t in text:\n",
    "        wdm[i,wordnet[t]]+=1\n",
    "    wdm[i,:]=wdm[i,:]/sum(wdm[i,:])\n",
    "    wdm[i,-1]=label\n",
    "\n",
    "for text in positive_tok:\n",
    "    wdm_creation(text,1)\n",
    "    i+=1\n",
    "    \n",
    "for text in negative_tok:\n",
    "    wdm_creation(text,0)\n",
    "    i+=1\n",
    "\n",
    "for j in range(5):    \n",
    "    np.random.shuffle(wdm)"
   ]
  },
  {
   "cell_type": "code",
   "execution_count": 69,
   "metadata": {},
   "outputs": [],
   "source": [
    "#test=\"Why do you even write. This is So bad. I wasnt able to read till the end as it was So bad.\"\n",
    "test=\"This book is really good. It is a masterpiece\"\n",
    "test1=new_tok(test)\n",
    "wdm_creation(test1,0)\n",
    "i+=1"
   ]
  },
  {
   "cell_type": "code",
   "execution_count": 70,
   "metadata": {},
   "outputs": [
    {
     "name": "stdout",
     "output_type": "stream",
     "text": [
      "('This book is really good. It is a masterpiece', '-Positive Review')\n"
     ]
    }
   ],
   "source": [
    "from sklearn.linear_model import LogisticRegression\n",
    "model=LogisticRegression()\n",
    "model=model.fit(wdm[:2000,:-1],wdm[:2000,-1])\n",
    "pred=model.predict([wdm[2000,:-1]])\n",
    "if pred<0.5:\n",
    "    print(test,'-Negative Review')\n",
    "    pred='negative'\n",
    "else:\n",
    "    print(test,'-Positive Review')\n",
    "    pred='positive'\n",
    "\n",
    "i-=1\n",
    "wdm[-1,:]=0"
   ]
  },
  {
   "cell_type": "code",
   "execution_count": 24,
   "metadata": {
    "collapsed": true
   },
   "outputs": [],
   "source": [
    "def syuzhet(text,sentiment):\n",
    "    emotions=pd.read_csv('/home/suyash/Downloads/Entries_in_the_NRC_Emotion_Lexicon_data.csv')\n",
    "    tokens=new_tok(text)\n",
    "    df=pd.DataFrame({'joy':0,'anticip':0,'disgust':0,'sadness':0,'positive':0,'negative':0,'anger':0,'surprise':0,'fear':0,'trust':0},index=[0])\n",
    "    for tok in tokens:\n",
    "        emotion=emotions[emotions.Word==tok].Positive.unique()\n",
    "        for emo in emotion:\n",
    "            df[emo]=df[emo]+1\n",
    "    if sentiment=='positive':\n",
    "        df[['joy','anticip','positive','surprise']].plot(kind='bar')\n",
    "        plt.show()\n",
    "    if sentiment=='negative':\n",
    "        df[['sadness','disgust','negative','fear']].plot(kind='bar')\n",
    "        plt.show()\n",
    "    return df"
   ]
  },
  {
   "cell_type": "code",
   "execution_count": 71,
   "metadata": {},
   "outputs": [
    {
     "data": {
      "image/png": "[encoded data removed]",
      "text/plain": [
       "<matplotlib.figure.Figure at 0x7f33428d5f90>"
      ]
     },
     "metadata": {},
     "output_type": "display_data"
    },
    {
     "data": {
      "text/html": [
       "<div>\n",
       "<style>\n",
       "    .dataframe thead tr:only-child th {\n",
       "        text-align: right;\n",
       "    }\n",
       "\n",
       "    .dataframe thead th {\n",
       "        text-align: left;\n",
       "    }\n",
       "\n",
       "    .dataframe tbody tr th {\n",
       "        vertical-align: top;\n",
       "    }\n",
       "</style>\n",
       "<table border=\"1\" class=\"dataframe\">\n",
       "  <thead>\n",
       "    <tr style=\"text-align: right;\">\n",
       "      <th></th>\n",
       "      <th>anger</th>\n",
       "      <th>anticip</th>\n",
       "      <th>disgust</th>\n",
       "      <th>fear</th>\n",
       "      <th>joy</th>\n",
       "      <th>negative</th>\n",
       "      <th>positive</th>\n",
       "      <th>sadness</th>\n",
       "      <th>surprise</th>\n",
       "      <th>trust</th>\n",
       "    </tr>\n",
       "  </thead>\n",
       "  <tbody>\n",
       "    <tr>\n",
       "      <th>0</th>\n",
       "      <td>0</td>\n",
       "      <td>0</td>\n",
       "      <td>0</td>\n",
       "      <td>0</td>\n",
       "      <td>1</td>\n",
       "      <td>0</td>\n",
       "      <td>1</td>\n",
       "      <td>0</td>\n",
       "      <td>0</td>\n",
       "      <td>0</td>\n",
       "    </tr>\n",
       "  </tbody>\n",
       "</table>\n",
       "</div>"
      ],
      "text/plain": [
       "   anger  anticip  disgust  fear  joy  negative  positive  sadness  surprise  \\\n",
       "0      0        0        0     0    1         0         1        0         0   \n",
       "\n",
       "   trust  \n",
       "0      0  "
      ]
     },
     "execution_count": 71,
     "metadata": {},
     "output_type": "execute_result"
    }
   ],
   "source": [
    "syuzhet(test,pred)"
   ]
  }
 ],
 "metadata": {
  "kernelspec": {
   "display_name": "Python 2",
   "language": "python",
   "name": "python2"
  },
  "language_info": {
   "codemirror_mode": {
    "name": "ipython",
    "version": 2
   },
   "file_extension": ".py",
   "mimetype": "text/x-python",
   "name": "python",
   "nbconvert_exporter": "python",
   "pygments_lexer": "ipython2",
   "version": "2.7.14"
  }
 },
 "nbformat": 4,
 "nbformat_minor": 2
}
