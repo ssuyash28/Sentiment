{
 "cells": [
  {
   "cell_type": "code",
   "execution_count": 39,
   "metadata": {
    "collapsed": true
   },
   "outputs": [],
   "source": [
    "#Libraries\n",
    "import matplotlib.pyplot as plt\n",
    "import pandas as pd\n",
    "import nltk\n",
    "from nltk.stem import WordNetLemmatizer\n"
   ]
  },
  {
   "cell_type": "code",
   "execution_count": 70,
   "metadata": {},
   "outputs": [],
   "source": [
    "def syuzhet(text,sentiment):\n",
    "    emotions=pd.read_csv('/home/suyash/Downloads/Entries_in_the_NRC_Emotion_Lexicon_data.csv')\n",
    "    tokens=new_tok(text)\n",
    "    df=pd.DataFrame({'joy':0,'anticip':0,'disgust':0,'sadness':0,'positive':0,'negative':0,'anger':0,'surprise':0,'fear':0,'trust':0},index=[0])\n",
    "    for tok in tokens:\n",
    "        emotion=emotions[emotions.Word==tok].Positive.unique()\n",
    "        for emo in emotion:\n",
    "            df[emo]=df[emo]+1\n",
    "    if sentiment=='positive':\n",
    "        df.plot(kind='bar')\n",
    "        plt.show()\n",
    "    return df"
   ]
  },
  {
   "cell_type": "code",
   "execution_count": 71,
   "metadata": {
    "collapsed": true
   },
   "outputs": [],
   "source": [
    "def new_tok(text):\n",
    "    stopwords=open('/home/suyash/stopwords.txt').read()\n",
    "    stopwords=stopwords.split('\\n')\n",
    "    wnl=WordNetLemmatizer()\n",
    "    text=text.lower()\n",
    "    tok=nltk.tokenize.word_tokenize(text)\n",
    "    tok=[t for t in tok if len(t)>2]\n",
    "    tok=[wnl.lemmatize(t) for t in tok]\n",
    "    tok=[t for t in tok if t not in stopwords]\n",
    "    return tok"
   ]
  },
  {
   "cell_type": "code",
   "execution_count": 73,
   "metadata": {},
   "outputs": [
    {
     "data": {
      "image/png": "[encoded data removed]",
      "text/plain": [
       "<matplotlib.figure.Figure at 0x7f8ed6cc3610>"
      ]
     },
     "metadata": {},
     "output_type": "display_data"
    },
    {
     "data": {
      "text/html": [
       "<div>\n",
       "<style>\n",
       "    .dataframe thead tr:only-child th {\n",
       "        text-align: right;\n",
       "    }\n",
       "\n",
       "    .dataframe thead th {\n",
       "        text-align: left;\n",
       "    }\n",
       "\n",
       "    .dataframe tbody tr th {\n",
       "        vertical-align: top;\n",
       "    }\n",
       "</style>\n",
       "<table border=\"1\" class=\"dataframe\">\n",
       "  <thead>\n",
       "    <tr style=\"text-align: right;\">\n",
       "      <th></th>\n",
       "      <th>anger</th>\n",
       "      <th>anticip</th>\n",
       "      <th>disgust</th>\n",
       "      <th>fear</th>\n",
       "      <th>joy</th>\n",
       "      <th>negative</th>\n",
       "      <th>positive</th>\n",
       "      <th>sadness</th>\n",
       "      <th>surprise</th>\n",
       "      <th>trust</th>\n",
       "    </tr>\n",
       "  </thead>\n",
       "  <tbody>\n",
       "    <tr>\n",
       "      <th>0</th>\n",
       "      <td>2</td>\n",
       "      <td>1</td>\n",
       "      <td>1</td>\n",
       "      <td>1</td>\n",
       "      <td>1</td>\n",
       "      <td>2</td>\n",
       "      <td>1</td>\n",
       "      <td>1</td>\n",
       "      <td>0</td>\n",
       "      <td>1</td>\n",
       "    </tr>\n",
       "  </tbody>\n",
       "</table>\n",
       "</div>"
      ],
      "text/plain": [
       "   anger  anticip  disgust  fear  joy  negative  positive  sadness  surprise  \\\n",
       "0      2        1        1     1    1         2         1        1         0   \n",
       "\n",
       "   trust  \n",
       "0      1  "
      ]
     },
     "execution_count": 73,
     "metadata": {},
     "output_type": "execute_result"
    }
   ],
   "source": [
    "syuzhet('The day is so rough. So upset yet happy','positive')"
   ]
  }
 ],
 "metadata": {
  "kernelspec": {
   "display_name": "Python 2",
   "language": "python",
   "name": "python2"
  },
  "language_info": {
   "codemirror_mode": {
    "name": "ipython",
    "version": 2
   },
   "file_extension": ".py",
   "mimetype": "text/x-python",
   "name": "python",
   "nbconvert_exporter": "python",
   "pygments_lexer": "ipython2",
   "version": "2.7.14"
  }
 },
 "nbformat": 4,
 "nbformat_minor": 2
}
